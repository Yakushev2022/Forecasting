{
 "cells": [
  {
   "cell_type": "code",
   "execution_count": 1,
   "id": "compatible-dryer",
   "metadata": {},
   "outputs": [],
   "source": [
    "import numpy as np\n",
    "import pandas as pd"
   ]
  },
  {
   "cell_type": "code",
   "execution_count": null,
   "id": "cooperative-sound",
   "metadata": {},
   "outputs": [],
   "source": [
    "#! python -m pip install prophet"
   ]
  },
  {
   "cell_type": "code",
   "execution_count": null,
   "id": "known-torture",
   "metadata": {},
   "outputs": [],
   "source": [
    "! conda install -c conda-forge prophet"
   ]
  },
  {
   "cell_type": "code",
   "execution_count": 2,
   "id": "everyday-beverage",
   "metadata": {},
   "outputs": [],
   "source": [
    "from prophet import Prophet"
   ]
  },
  {
   "cell_type": "code",
   "execution_count": 3,
   "id": "innovative-stock",
   "metadata": {},
   "outputs": [
    {
     "data": {
      "text/html": [
       "<div>\n",
       "<style scoped>\n",
       "    .dataframe tbody tr th:only-of-type {\n",
       "        vertical-align: middle;\n",
       "    }\n",
       "\n",
       "    .dataframe tbody tr th {\n",
       "        vertical-align: top;\n",
       "    }\n",
       "\n",
       "    .dataframe thead th {\n",
       "        text-align: right;\n",
       "    }\n",
       "</style>\n",
       "<table border=\"1\" class=\"dataframe\">\n",
       "  <thead>\n",
       "    <tr style=\"text-align: right;\">\n",
       "      <th></th>\n",
       "      <th>ds</th>\n",
       "      <th>y</th>\n",
       "    </tr>\n",
       "  </thead>\n",
       "  <tbody>\n",
       "    <tr>\n",
       "      <th>0</th>\n",
       "      <td>2007-12-10</td>\n",
       "      <td>9.590761</td>\n",
       "    </tr>\n",
       "    <tr>\n",
       "      <th>1</th>\n",
       "      <td>2007-12-11</td>\n",
       "      <td>8.519590</td>\n",
       "    </tr>\n",
       "    <tr>\n",
       "      <th>2</th>\n",
       "      <td>2007-12-12</td>\n",
       "      <td>8.183677</td>\n",
       "    </tr>\n",
       "    <tr>\n",
       "      <th>3</th>\n",
       "      <td>2007-12-13</td>\n",
       "      <td>8.072467</td>\n",
       "    </tr>\n",
       "    <tr>\n",
       "      <th>4</th>\n",
       "      <td>2007-12-14</td>\n",
       "      <td>7.893572</td>\n",
       "    </tr>\n",
       "  </tbody>\n",
       "</table>\n",
       "</div>"
      ],
      "text/plain": [
       "           ds         y\n",
       "0  2007-12-10  9.590761\n",
       "1  2007-12-11  8.519590\n",
       "2  2007-12-12  8.183677\n",
       "3  2007-12-13  8.072467\n",
       "4  2007-12-14  7.893572"
      ]
     },
     "execution_count": 3,
     "metadata": {},
     "output_type": "execute_result"
    }
   ],
   "source": [
    "df = pd.read_csv('https://raw.githubusercontent.com/facebook/prophet/main/examples/example_wp_log_peyton_manning.csv')\n",
    "df.head()"
   ]
  },
  {
   "cell_type": "code",
   "execution_count": 4,
   "id": "aging-checklist",
   "metadata": {},
   "outputs": [],
   "source": [
    "m = Prophet()\n",
    "#m.fit(df)"
   ]
  },
  {
   "cell_type": "code",
   "execution_count": 5,
   "id": "authorized-soundtrack",
   "metadata": {},
   "outputs": [
    {
     "name": "stderr",
     "output_type": "stream",
     "text": [
      "10:35:07 - cmdstanpy - INFO - Chain [1] start processing\n",
      "10:35:11 - cmdstanpy - INFO - Chain [1] done processing\n",
      "10:35:11 - cmdstanpy - ERROR - Chain [1] error: terminated by signal 3221225657 \n",
      "Optimization terminated abnormally. Falling back to Newton.\n",
      "10:35:12 - cmdstanpy - INFO - Chain [1] start processing\n",
      "10:35:12 - cmdstanpy - INFO - Chain [1] done processing\n",
      "10:35:12 - cmdstanpy - ERROR - Chain [1] error: terminated by signal 3221225657 \n"
     ]
    },
    {
     "ename": "RuntimeError",
     "evalue": "Error during optimization: ",
     "output_type": "error",
     "traceback": [
      "\u001b[1;31m---------------------------------------------------------------------------\u001b[0m",
      "\u001b[1;31mRuntimeError\u001b[0m                              Traceback (most recent call last)",
      "\u001b[1;32m~\\anaconda3\\lib\\site-packages\\prophet\\models.py\u001b[0m in \u001b[0;36mfit\u001b[1;34m(self, stan_init, stan_data, **kwargs)\u001b[0m\n\u001b[0;32m     95\u001b[0m         \u001b[1;32mtry\u001b[0m\u001b[1;33m:\u001b[0m\u001b[1;33m\u001b[0m\u001b[1;33m\u001b[0m\u001b[0m\n\u001b[1;32m---> 96\u001b[1;33m             \u001b[0mself\u001b[0m\u001b[1;33m.\u001b[0m\u001b[0mstan_fit\u001b[0m \u001b[1;33m=\u001b[0m \u001b[0mself\u001b[0m\u001b[1;33m.\u001b[0m\u001b[0mmodel\u001b[0m\u001b[1;33m.\u001b[0m\u001b[0moptimize\u001b[0m\u001b[1;33m(\u001b[0m\u001b[1;33m**\u001b[0m\u001b[0margs\u001b[0m\u001b[1;33m)\u001b[0m\u001b[1;33m\u001b[0m\u001b[1;33m\u001b[0m\u001b[0m\n\u001b[0m\u001b[0;32m     97\u001b[0m         \u001b[1;32mexcept\u001b[0m \u001b[0mRuntimeError\u001b[0m \u001b[1;32mas\u001b[0m \u001b[0me\u001b[0m\u001b[1;33m:\u001b[0m\u001b[1;33m\u001b[0m\u001b[1;33m\u001b[0m\u001b[0m\n",
      "\u001b[1;32m~\\anaconda3\\lib\\site-packages\\cmdstanpy\\model.py\u001b[0m in \u001b[0;36moptimize\u001b[1;34m(self, data, seed, inits, output_dir, sig_figs, save_profile, algorithm, init_alpha, tol_obj, tol_rel_obj, tol_grad, tol_rel_grad, tol_param, history_size, iter, save_iterations, require_converged, show_console, refresh, time_fmt)\u001b[0m\n\u001b[0;32m    732\u001b[0m             \u001b[1;32melse\u001b[0m\u001b[1;33m:\u001b[0m\u001b[1;33m\u001b[0m\u001b[1;33m\u001b[0m\u001b[0m\n\u001b[1;32m--> 733\u001b[1;33m                 \u001b[1;32mraise\u001b[0m \u001b[0mRuntimeError\u001b[0m\u001b[1;33m(\u001b[0m\u001b[0mmsg\u001b[0m\u001b[1;33m)\u001b[0m\u001b[1;33m\u001b[0m\u001b[1;33m\u001b[0m\u001b[0m\n\u001b[0m\u001b[0;32m    734\u001b[0m         \u001b[0mmle\u001b[0m \u001b[1;33m=\u001b[0m \u001b[0mCmdStanMLE\u001b[0m\u001b[1;33m(\u001b[0m\u001b[0mrunset\u001b[0m\u001b[1;33m)\u001b[0m\u001b[1;33m\u001b[0m\u001b[1;33m\u001b[0m\u001b[0m\n",
      "\u001b[1;31mRuntimeError\u001b[0m: Error during optimization: ",
      "\nDuring handling of the above exception, another exception occurred:\n",
      "\u001b[1;31mRuntimeError\u001b[0m                              Traceback (most recent call last)",
      "\u001b[1;32m<ipython-input-5-a8e399fdfab2>\u001b[0m in \u001b[0;36m<module>\u001b[1;34m\u001b[0m\n\u001b[1;32m----> 1\u001b[1;33m \u001b[0mm\u001b[0m\u001b[1;33m.\u001b[0m\u001b[0mfit\u001b[0m\u001b[1;33m(\u001b[0m\u001b[0mdf\u001b[0m\u001b[1;33m)\u001b[0m\u001b[1;33m\u001b[0m\u001b[1;33m\u001b[0m\u001b[0m\n\u001b[0m",
      "\u001b[1;32m~\\anaconda3\\lib\\site-packages\\prophet\\forecaster.py\u001b[0m in \u001b[0;36mfit\u001b[1;34m(self, df, **kwargs)\u001b[0m\n\u001b[0;32m   1172\u001b[0m             \u001b[0mself\u001b[0m\u001b[1;33m.\u001b[0m\u001b[0mparams\u001b[0m \u001b[1;33m=\u001b[0m \u001b[0mself\u001b[0m\u001b[1;33m.\u001b[0m\u001b[0mstan_backend\u001b[0m\u001b[1;33m.\u001b[0m\u001b[0msampling\u001b[0m\u001b[1;33m(\u001b[0m\u001b[0mstan_init\u001b[0m\u001b[1;33m,\u001b[0m \u001b[0mdat\u001b[0m\u001b[1;33m,\u001b[0m \u001b[0mself\u001b[0m\u001b[1;33m.\u001b[0m\u001b[0mmcmc_samples\u001b[0m\u001b[1;33m,\u001b[0m \u001b[1;33m**\u001b[0m\u001b[0mkwargs\u001b[0m\u001b[1;33m)\u001b[0m\u001b[1;33m\u001b[0m\u001b[1;33m\u001b[0m\u001b[0m\n\u001b[0;32m   1173\u001b[0m         \u001b[1;32melse\u001b[0m\u001b[1;33m:\u001b[0m\u001b[1;33m\u001b[0m\u001b[1;33m\u001b[0m\u001b[0m\n\u001b[1;32m-> 1174\u001b[1;33m             \u001b[0mself\u001b[0m\u001b[1;33m.\u001b[0m\u001b[0mparams\u001b[0m \u001b[1;33m=\u001b[0m \u001b[0mself\u001b[0m\u001b[1;33m.\u001b[0m\u001b[0mstan_backend\u001b[0m\u001b[1;33m.\u001b[0m\u001b[0mfit\u001b[0m\u001b[1;33m(\u001b[0m\u001b[0mstan_init\u001b[0m\u001b[1;33m,\u001b[0m \u001b[0mdat\u001b[0m\u001b[1;33m,\u001b[0m \u001b[1;33m**\u001b[0m\u001b[0mkwargs\u001b[0m\u001b[1;33m)\u001b[0m\u001b[1;33m\u001b[0m\u001b[1;33m\u001b[0m\u001b[0m\n\u001b[0m\u001b[0;32m   1175\u001b[0m \u001b[1;33m\u001b[0m\u001b[0m\n\u001b[0;32m   1176\u001b[0m         \u001b[0mself\u001b[0m\u001b[1;33m.\u001b[0m\u001b[0mstan_fit\u001b[0m \u001b[1;33m=\u001b[0m \u001b[0mself\u001b[0m\u001b[1;33m.\u001b[0m\u001b[0mstan_backend\u001b[0m\u001b[1;33m.\u001b[0m\u001b[0mstan_fit\u001b[0m\u001b[1;33m\u001b[0m\u001b[1;33m\u001b[0m\u001b[0m\n",
      "\u001b[1;32m~\\anaconda3\\lib\\site-packages\\prophet\\models.py\u001b[0m in \u001b[0;36mfit\u001b[1;34m(self, stan_init, stan_data, **kwargs)\u001b[0m\n\u001b[0;32m    101\u001b[0m             \u001b[0mlogger\u001b[0m\u001b[1;33m.\u001b[0m\u001b[0mwarning\u001b[0m\u001b[1;33m(\u001b[0m\u001b[1;34m'Optimization terminated abnormally. Falling back to Newton.'\u001b[0m\u001b[1;33m)\u001b[0m\u001b[1;33m\u001b[0m\u001b[1;33m\u001b[0m\u001b[0m\n\u001b[0;32m    102\u001b[0m             \u001b[0margs\u001b[0m\u001b[1;33m[\u001b[0m\u001b[1;34m'algorithm'\u001b[0m\u001b[1;33m]\u001b[0m \u001b[1;33m=\u001b[0m \u001b[1;34m'Newton'\u001b[0m\u001b[1;33m\u001b[0m\u001b[1;33m\u001b[0m\u001b[0m\n\u001b[1;32m--> 103\u001b[1;33m             \u001b[0mself\u001b[0m\u001b[1;33m.\u001b[0m\u001b[0mstan_fit\u001b[0m \u001b[1;33m=\u001b[0m \u001b[0mself\u001b[0m\u001b[1;33m.\u001b[0m\u001b[0mmodel\u001b[0m\u001b[1;33m.\u001b[0m\u001b[0moptimize\u001b[0m\u001b[1;33m(\u001b[0m\u001b[1;33m**\u001b[0m\u001b[0margs\u001b[0m\u001b[1;33m)\u001b[0m\u001b[1;33m\u001b[0m\u001b[1;33m\u001b[0m\u001b[0m\n\u001b[0m\u001b[0;32m    104\u001b[0m         params = self.stan_to_dict_numpy(\n\u001b[0;32m    105\u001b[0m             self.stan_fit.column_names, self.stan_fit.optimized_params_np)\n",
      "\u001b[1;32m~\\anaconda3\\lib\\site-packages\\cmdstanpy\\model.py\u001b[0m in \u001b[0;36moptimize\u001b[1;34m(self, data, seed, inits, output_dir, sig_figs, save_profile, algorithm, init_alpha, tol_obj, tol_rel_obj, tol_grad, tol_rel_grad, tol_param, history_size, iter, save_iterations, require_converged, show_console, refresh, time_fmt)\u001b[0m\n\u001b[0;32m    731\u001b[0m                 \u001b[0mget_logger\u001b[0m\u001b[1;33m(\u001b[0m\u001b[1;33m)\u001b[0m\u001b[1;33m.\u001b[0m\u001b[0mwarning\u001b[0m\u001b[1;33m(\u001b[0m\u001b[0mmsg\u001b[0m\u001b[1;33m)\u001b[0m\u001b[1;33m\u001b[0m\u001b[1;33m\u001b[0m\u001b[0m\n\u001b[0;32m    732\u001b[0m             \u001b[1;32melse\u001b[0m\u001b[1;33m:\u001b[0m\u001b[1;33m\u001b[0m\u001b[1;33m\u001b[0m\u001b[0m\n\u001b[1;32m--> 733\u001b[1;33m                 \u001b[1;32mraise\u001b[0m \u001b[0mRuntimeError\u001b[0m\u001b[1;33m(\u001b[0m\u001b[0mmsg\u001b[0m\u001b[1;33m)\u001b[0m\u001b[1;33m\u001b[0m\u001b[1;33m\u001b[0m\u001b[0m\n\u001b[0m\u001b[0;32m    734\u001b[0m         \u001b[0mmle\u001b[0m \u001b[1;33m=\u001b[0m \u001b[0mCmdStanMLE\u001b[0m\u001b[1;33m(\u001b[0m\u001b[0mrunset\u001b[0m\u001b[1;33m)\u001b[0m\u001b[1;33m\u001b[0m\u001b[1;33m\u001b[0m\u001b[0m\n\u001b[0;32m    735\u001b[0m         \u001b[1;32mreturn\u001b[0m \u001b[0mmle\u001b[0m\u001b[1;33m\u001b[0m\u001b[1;33m\u001b[0m\u001b[0m\n",
      "\u001b[1;31mRuntimeError\u001b[0m: Error during optimization: "
     ]
    }
   ],
   "source": [
    "m.fit(df)"
   ]
  },
  {
   "cell_type": "code",
   "execution_count": 26,
   "id": "perfect-malpractice",
   "metadata": {},
   "outputs": [],
   "source": [
    "#df= pd.read_csv ('example_air_passengers.csv')"
   ]
  },
  {
   "cell_type": "code",
   "execution_count": 27,
   "id": "aboriginal-breach",
   "metadata": {},
   "outputs": [
    {
     "data": {
      "text/html": [
       "<div>\n",
       "<style scoped>\n",
       "    .dataframe tbody tr th:only-of-type {\n",
       "        vertical-align: middle;\n",
       "    }\n",
       "\n",
       "    .dataframe tbody tr th {\n",
       "        vertical-align: top;\n",
       "    }\n",
       "\n",
       "    .dataframe thead th {\n",
       "        text-align: right;\n",
       "    }\n",
       "</style>\n",
       "<table border=\"1\" class=\"dataframe\">\n",
       "  <thead>\n",
       "    <tr style=\"text-align: right;\">\n",
       "      <th></th>\n",
       "      <th>ds \\ty</th>\n",
       "    </tr>\n",
       "  </thead>\n",
       "  <tbody>\n",
       "    <tr>\n",
       "      <th>0</th>\n",
       "      <td>1949-01-01 \\t112</td>\n",
       "    </tr>\n",
       "    <tr>\n",
       "      <th>1</th>\n",
       "      <td>1949-02-01 \\t118</td>\n",
       "    </tr>\n",
       "    <tr>\n",
       "      <th>2</th>\n",
       "      <td>1949-03-01 \\t132</td>\n",
       "    </tr>\n",
       "    <tr>\n",
       "      <th>3</th>\n",
       "      <td>1949-04-01 \\t129</td>\n",
       "    </tr>\n",
       "    <tr>\n",
       "      <th>4</th>\n",
       "      <td>1949-05-01 \\t121</td>\n",
       "    </tr>\n",
       "    <tr>\n",
       "      <th>...</th>\n",
       "      <td>...</td>\n",
       "    </tr>\n",
       "    <tr>\n",
       "      <th>139</th>\n",
       "      <td>1960-08-01 \\t606</td>\n",
       "    </tr>\n",
       "    <tr>\n",
       "      <th>140</th>\n",
       "      <td>1960-09-01 \\t508</td>\n",
       "    </tr>\n",
       "    <tr>\n",
       "      <th>141</th>\n",
       "      <td>1960-10-01 \\t461</td>\n",
       "    </tr>\n",
       "    <tr>\n",
       "      <th>142</th>\n",
       "      <td>1960-11-01 \\t390</td>\n",
       "    </tr>\n",
       "    <tr>\n",
       "      <th>143</th>\n",
       "      <td>1960-12-01 \\t432</td>\n",
       "    </tr>\n",
       "  </tbody>\n",
       "</table>\n",
       "<p>144 rows × 1 columns</p>\n",
       "</div>"
      ],
      "text/plain": [
       "               ds \\ty\n",
       "0    1949-01-01 \\t112\n",
       "1    1949-02-01 \\t118\n",
       "2    1949-03-01 \\t132\n",
       "3    1949-04-01 \\t129\n",
       "4    1949-05-01 \\t121\n",
       "..                ...\n",
       "139  1960-08-01 \\t606\n",
       "140  1960-09-01 \\t508\n",
       "141  1960-10-01 \\t461\n",
       "142  1960-11-01 \\t390\n",
       "143  1960-12-01 \\t432\n",
       "\n",
       "[144 rows x 1 columns]"
      ]
     },
     "execution_count": 27,
     "metadata": {},
     "output_type": "execute_result"
    }
   ],
   "source": [
    "#df"
   ]
  },
  {
   "cell_type": "code",
   "execution_count": 11,
   "id": "qualified-stewart",
   "metadata": {},
   "outputs": [
    {
     "name": "stdout",
     "output_type": "stream",
     "text": [
      "Collecting kats\n",
      "  Using cached kats-0.2.0-py3-none-any.whl (612 kB)\n",
      "Requirement already satisfied: matplotlib>=2.0.0 in c:\\users\\opel\\anaconda3\\lib\\site-packages (from kats) (3.3.4)\n",
      "Collecting attrs>=21.2.0\n",
      "  Using cached attrs-22.1.0-py2.py3-none-any.whl (58 kB)\n",
      "Collecting ax-platform==0.2.4\n",
      "  Using cached ax_platform-0.2.4-py3-none-any.whl (950 kB)\n",
      "Collecting scipy<1.8.0\n",
      "  Using cached scipy-1.7.3-cp38-cp38-win_amd64.whl (34.2 MB)\n",
      "Requirement already satisfied: tqdm>=4.36.1 in c:\\users\\opel\\anaconda3\\lib\\site-packages (from kats) (4.56.0)\n",
      "Collecting numba>=0.52.0\n",
      "  Using cached numba-0.56.2-cp38-cp38-win_amd64.whl (2.5 MB)\n",
      "Collecting parameterized>=0.8.1\n",
      "  Using cached parameterized-0.8.1-py2.py3-none-any.whl (26 kB)"
     ]
    },
    {
     "name": "stderr",
     "output_type": "stream",
     "text": [
      "  ERROR: Command errored out with exit status 1:\n",
      "   command: 'C:\\Users\\opel\\anaconda3\\python.exe' -u -c 'import sys, setuptools, tokenize; sys.argv[0] = '\"'\"'C:\\\\Users\\\\opel\\\\AppData\\\\Local\\\\Temp\\\\pip-install-48i43ixi\\\\fbprophet_e604e3c4212d4944bc77b2cec964c4c4\\\\setup.py'\"'\"'; __file__='\"'\"'C:\\\\Users\\\\opel\\\\AppData\\\\Local\\\\Temp\\\\pip-install-48i43ixi\\\\fbprophet_e604e3c4212d4944bc77b2cec964c4c4\\\\setup.py'\"'\"';f=getattr(tokenize, '\"'\"'open'\"'\"', open)(__file__);code=f.read().replace('\"'\"'\\r\\n'\"'\"', '\"'\"'\\n'\"'\"');f.close();exec(compile(code, __file__, '\"'\"'exec'\"'\"'))' bdist_wheel -d 'C:\\Users\\opel\\AppData\\Local\\Temp\\pip-wheel-v39__cag'\n",
      "       cwd: C:\\Users\\opel\\AppData\\Local\\Temp\\pip-install-48i43ixi\\fbprophet_e604e3c4212d4944bc77b2cec964c4c4\\\n",
      "  Complete output (44 lines):\n",
      "  running bdist_wheel\n",
      "  running build\n",
      "  running build_py\n",
      "  creating build\n",
      "  creating build\\lib\n",
      "  creating build\\lib\\fbprophet\n",
      "  creating build\\lib\\fbprophet\\stan_model\n",
      "  Traceback (most recent call last):\n",
      "    File \"<string>\", line 1, in <module>\n",
      "    File \"C:\\Users\\opel\\AppData\\Local\\Temp\\pip-install-48i43ixi\\fbprophet_e604e3c4212d4944bc77b2cec964c4c4\\setup.py\", line 122, in <module>\n",
      "      setup(\n",
      "    File \"C:\\Users\\opel\\anaconda3\\lib\\site-packages\\setuptools\\__init__.py\", line 153, in setup\n",
      "      return distutils.core.setup(**attrs)\n",
      "    File \"C:\\Users\\opel\\anaconda3\\lib\\distutils\\core.py\", line 148, in setup\n",
      "      dist.run_commands()\n",
      "    File \"C:\\Users\\opel\\anaconda3\\lib\\distutils\\dist.py\", line 966, in run_commands\n",
      "      self.run_command(cmd)\n",
      "    File \"C:\\Users\\opel\\anaconda3\\lib\\distutils\\dist.py\", line 985, in run_command\n",
      "      cmd_obj.run()\n",
      "    File \"C:\\Users\\opel\\anaconda3\\lib\\site-packages\\wheel\\bdist_wheel.py\", line 299, in run\n",
      "      self.run_command('build')\n",
      "    File \"C:\\Users\\opel\\anaconda3\\lib\\distutils\\cmd.py\", line 313, in run_command\n",
      "      self.distribution.run_command(command)\n",
      "    File \"C:\\Users\\opel\\anaconda3\\lib\\distutils\\dist.py\", line 985, in run_command\n",
      "      cmd_obj.run()\n",
      "    File \"C:\\Users\\opel\\anaconda3\\lib\\distutils\\command\\build.py\", line 135, in run\n",
      "      self.run_command(cmd_name)\n",
      "    File \"C:\\Users\\opel\\anaconda3\\lib\\distutils\\cmd.py\", line 313, in run_command\n",
      "      self.distribution.run_command(command)\n",
      "    File \"C:\\Users\\opel\\anaconda3\\lib\\distutils\\dist.py\", line 985, in run_command\n",
      "      cmd_obj.run()\n",
      "    File \"C:\\Users\\opel\\AppData\\Local\\Temp\\pip-install-48i43ixi\\fbprophet_e604e3c4212d4944bc77b2cec964c4c4\\setup.py\", line 48, in run\n",
      "      build_models(target_dir)\n",
      "    File \"C:\\Users\\opel\\AppData\\Local\\Temp\\pip-install-48i43ixi\\fbprophet_e604e3c4212d4944bc77b2cec964c4c4\\setup.py\", line 36, in build_models\n",
      "      from fbprophet.models import StanBackendEnum\n",
      "    File \"C:\\Users\\opel\\AppData\\Local\\Temp\\pip-install-48i43ixi\\fbprophet_e604e3c4212d4944bc77b2cec964c4c4\\fbprophet\\__init__.py\", line 8, in <module>\n",
      "      from fbprophet.forecaster import Prophet\n",
      "    File \"C:\\Users\\opel\\AppData\\Local\\Temp\\pip-install-48i43ixi\\fbprophet_e604e3c4212d4944bc77b2cec964c4c4\\fbprophet\\forecaster.py\", line 17, in <module>\n",
      "      from fbprophet.make_holidays import get_holiday_names, make_holidays_df\n",
      "    File \"C:\\Users\\opel\\AppData\\Local\\Temp\\pip-install-48i43ixi\\fbprophet_e604e3c4212d4944bc77b2cec964c4c4\\fbprophet\\make_holidays.py\", line 14, in <module>\n",
      "      import fbprophet.hdays as hdays_part2\n",
      "    File \"C:\\Users\\opel\\AppData\\Local\\Temp\\pip-install-48i43ixi\\fbprophet_e604e3c4212d4944bc77b2cec964c4c4\\fbprophet\\hdays.py\", line 13, in <module>\n",
      "      from convertdate.islamic import from_gregorian, to_gregorian\n",
      "  ModuleNotFoundError: No module named 'convertdate'\n",
      "  ----------------------------------------\n",
      "  ERROR: Failed building wheel for fbprophet\n",
      "ERROR: Could not install packages due to an OSError: [WinError 5] Отказано в доступе: 'C:\\\\Users\\\\opel\\\\anaconda3\\\\Lib\\\\site-packages\\\\~-ipy\\\\.libs\\\\libansari.54HGNEJBQIYZX5TZPCQGLNVIPFU6NWEX.gfortran-win_amd64.dll'\n",
      "Consider using the `--user` option or check the permissions.\n",
      "\n"
     ]
    },
    {
     "name": "stdout",
     "output_type": "stream",
     "text": [
      "\n",
      "Requirement already satisfied: seaborn>=0.11.1 in c:\\users\\opel\\anaconda3\\lib\\site-packages (from kats) (0.11.1)\n",
      "Collecting LunarCalendar>=0.0.9\n",
      "  Using cached LunarCalendar-0.0.9-py2.py3-none-any.whl (18 kB)\n",
      "Requirement already satisfied: scikit-learn>=0.24.2 in c:\\users\\opel\\anaconda3\\lib\\site-packages (from kats) (1.0.2)\n",
      "Requirement already satisfied: statsmodels==0.12.2 in c:\\users\\opel\\anaconda3\\lib\\site-packages (from kats) (0.12.2)\n",
      "Collecting holidays>=0.10.2\n",
      "  Using cached holidays-0.16-py3-none-any.whl (184 kB)\n",
      "Collecting gpytorch\n",
      "  Using cached gpytorch-1.9.0-py3-none-any.whl (245 kB)\n",
      "Collecting pymannkendall>=1.4.1\n",
      "  Using cached pymannkendall-1.4.2-py3-none-any.whl (12 kB)\n",
      "Requirement already satisfied: pandas<=1.3.5,>=1.0.4 in c:\\users\\opel\\anaconda3\\lib\\site-packages (from kats) (1.2.2)\n",
      "Collecting setuptools-git>=1.2\n",
      "  Using cached setuptools_git-1.2-py2.py3-none-any.whl (10 kB)\n",
      "Collecting fbprophet==0.7.1\n",
      "  Using cached fbprophet-0.7.1.tar.gz (64 kB)\n",
      "Requirement already satisfied: python-dateutil>=2.8.0 in c:\\users\\opel\\anaconda3\\lib\\site-packages (from kats) (2.8.1)\n",
      "Collecting deprecated>=1.2.12\n",
      "  Using cached Deprecated-1.2.13-py2.py3-none-any.whl (9.6 kB)\n",
      "Requirement already satisfied: torch in c:\\users\\opel\\anaconda3\\lib\\site-packages (from kats) (1.12.0)\n",
      "Collecting pystan==2.19.1.1\n",
      "  Using cached pystan-2.19.1.1-cp38-cp38-win_amd64.whl (79.8 MB)\n",
      "Collecting pytest-mpl>=0.12\n",
      "  Using cached pytest_mpl-0.16.1-py3-none-any.whl (28 kB)\n",
      "Requirement already satisfied: plotly>=2.2.1 in c:\\users\\opel\\anaconda3\\lib\\site-packages (from kats) (4.14.3)\n",
      "Requirement already satisfied: numpy<1.22,>=1.21 in c:\\users\\opel\\anaconda3\\lib\\site-packages (from kats) (1.21.6)\n",
      "Requirement already satisfied: jinja2 in c:\\users\\opel\\anaconda3\\lib\\site-packages (from ax-platform==0.2.4->kats) (2.11.3)\n",
      "Collecting botorch==0.6.2\n",
      "  Using cached botorch-0.6.2-py3-none-any.whl (347 kB)\n",
      "Collecting typeguard\n",
      "  Using cached typeguard-2.13.3-py3-none-any.whl (17 kB)\n",
      "Requirement already satisfied: multipledispatch in c:\\users\\opel\\anaconda3\\lib\\site-packages (from botorch==0.6.2->ax-platform==0.2.4->kats) (0.6.0)\n",
      "Requirement already satisfied: Cython>=0.22 in c:\\users\\opel\\anaconda3\\lib\\site-packages (from fbprophet==0.7.1->kats) (0.29.23)\n",
      "Collecting cmdstanpy==0.9.5\n",
      "  Using cached cmdstanpy-0.9.5-py3-none-any.whl (37 kB)\n",
      "Collecting convertdate>=2.1.2\n",
      "  Using cached convertdate-2.4.0-py3-none-any.whl (47 kB)\n",
      "Requirement already satisfied: patsy>=0.5 in c:\\users\\opel\\anaconda3\\lib\\site-packages (from statsmodels==0.12.2->kats) (0.5.1)\n",
      "Collecting pymeeus<=1,>=0.3.13\n",
      "  Using cached PyMeeus-0.5.11-py3-none-any.whl\n",
      "Requirement already satisfied: wrapt<2,>=1.10 in c:\\users\\opel\\anaconda3\\lib\\site-packages (from deprecated>=1.2.12->kats) (1.12.1)\n",
      "Collecting linear-operator>=0.1.1\n",
      "  Using cached linear_operator-0.1.1-py3-none-any.whl (145 kB)\n",
      "Collecting korean-lunar-calendar\n",
      "  Using cached korean_lunar_calendar-0.3.1-py3-none-any.whl (9.0 kB)\n",
      "Collecting hijri-converter\n",
      "  Using cached hijri_converter-2.2.4-py3-none-any.whl (14 kB)\n",
      "Collecting ephem>=3.7.5.3\n",
      "  Using cached ephem-4.1.3-cp38-cp38-win_amd64.whl (1.4 MB)\n",
      "Requirement already satisfied: pytz in c:\\users\\opel\\anaconda3\\lib\\site-packages (from LunarCalendar>=0.0.9->kats) (2021.1)\n",
      "Requirement already satisfied: pyparsing!=2.0.4,!=2.1.2,!=2.1.6,>=2.0.3 in c:\\users\\opel\\anaconda3\\lib\\site-packages (from matplotlib>=2.0.0->kats) (2.4.7)\n",
      "Requirement already satisfied: pillow>=6.2.0 in c:\\users\\opel\\anaconda3\\lib\\site-packages (from matplotlib>=2.0.0->kats) (8.1.0)\n",
      "Requirement already satisfied: kiwisolver>=1.0.1 in c:\\users\\opel\\anaconda3\\lib\\site-packages (from matplotlib>=2.0.0->kats) (1.3.1)\n",
      "Requirement already satisfied: cycler>=0.10 in c:\\users\\opel\\anaconda3\\lib\\site-packages (from matplotlib>=2.0.0->kats) (0.10.0)\n",
      "Requirement already satisfied: six in c:\\users\\opel\\anaconda3\\lib\\site-packages (from cycler>=0.10->matplotlib>=2.0.0->kats) (1.15.0)\n",
      "Requirement already satisfied: setuptools<60 in c:\\users\\opel\\anaconda3\\lib\\site-packages (from numba>=0.52.0->kats) (52.0.0.post20210125)\n",
      "Requirement already satisfied: importlib-metadata in c:\\users\\opel\\anaconda3\\lib\\site-packages (from numba>=0.52.0->kats) (2.0.0)\n",
      "Collecting llvmlite<0.40,>=0.39.0dev0\n",
      "  Using cached llvmlite-0.39.1-cp38-cp38-win_amd64.whl (23.2 MB)\n",
      "Requirement already satisfied: retrying>=1.3.3 in c:\\users\\opel\\anaconda3\\lib\\site-packages (from plotly>=2.2.1->kats) (1.3.3)\n",
      "Requirement already satisfied: packaging in c:\\users\\opel\\anaconda3\\lib\\site-packages (from pytest-mpl>=0.12->kats) (20.9)\n",
      "Requirement already satisfied: pytest in c:\\users\\opel\\anaconda3\\lib\\site-packages (from pytest-mpl>=0.12->kats) (6.2.2)\n",
      "Requirement already satisfied: joblib>=0.11 in c:\\users\\opel\\anaconda3\\lib\\site-packages (from scikit-learn>=0.24.2->kats) (1.0.1)\n",
      "Requirement already satisfied: threadpoolctl>=2.0.0 in c:\\users\\opel\\anaconda3\\lib\\site-packages (from scikit-learn>=0.24.2->kats) (2.1.0)\n",
      "Requirement already satisfied: typing-extensions in c:\\users\\opel\\anaconda3\\lib\\site-packages (from torch->kats) (3.7.4.3)\n",
      "Requirement already satisfied: zipp>=0.5 in c:\\users\\opel\\anaconda3\\lib\\site-packages (from importlib-metadata->numba>=0.52.0->kats) (3.4.0)\n",
      "Requirement already satisfied: MarkupSafe>=0.23 in c:\\users\\opel\\anaconda3\\lib\\site-packages (from jinja2->ax-platform==0.2.4->kats) (1.1.1)\n",
      "Requirement already satisfied: iniconfig in c:\\users\\opel\\anaconda3\\lib\\site-packages (from pytest->pytest-mpl>=0.12->kats) (1.1.1)\n",
      "Requirement already satisfied: pluggy<1.0.0a1,>=0.12 in c:\\users\\opel\\anaconda3\\lib\\site-packages (from pytest->pytest-mpl>=0.12->kats) (0.13.1)\n",
      "Requirement already satisfied: py>=1.8.2 in c:\\users\\opel\\anaconda3\\lib\\site-packages (from pytest->pytest-mpl>=0.12->kats) (1.10.0)\n",
      "Requirement already satisfied: toml in c:\\users\\opel\\anaconda3\\lib\\site-packages (from pytest->pytest-mpl>=0.12->kats) (0.10.1)\n",
      "Requirement already satisfied: atomicwrites>=1.0 in c:\\users\\opel\\anaconda3\\lib\\site-packages (from pytest->pytest-mpl>=0.12->kats) (1.4.0)\n",
      "Requirement already satisfied: colorama in c:\\users\\opel\\anaconda3\\lib\\site-packages (from pytest->pytest-mpl>=0.12->kats) (0.4.4)\n",
      "Building wheels for collected packages: fbprophet\n",
      "  Building wheel for fbprophet (setup.py): started\n",
      "  Building wheel for fbprophet (setup.py): finished with status 'error'\n",
      "  Running setup.py clean for fbprophet\n",
      "Failed to build fbprophet\n",
      "Installing collected packages: scipy, pymeeus, linear-operator, korean-lunar-calendar, hijri-converter, gpytorch, ephem, convertdate, attrs, typeguard, setuptools-git, pystan, LunarCalendar, llvmlite, holidays, cmdstanpy, botorch, pytest-mpl, pymannkendall, parameterized, numba, fbprophet, deprecated, ax-platform, kats\n",
      "  Attempting uninstall: scipy\n",
      "    Found existing installation: scipy 1.8.0\n",
      "    Uninstalling scipy-1.8.0:\n",
      "      Successfully uninstalled scipy-1.8.0\n"
     ]
    }
   ],
   "source": [
    "#! pip install -- upgrade pip\n",
    "! pip install kats"
   ]
  },
  {
   "cell_type": "code",
   "execution_count": 14,
   "id": "favorite-avenue",
   "metadata": {},
   "outputs": [
    {
     "ename": "ModuleNotFoundError",
     "evalue": "No module named 'kats'",
     "output_type": "error",
     "traceback": [
      "\u001b[1;31m---------------------------------------------------------------------------\u001b[0m",
      "\u001b[1;31mModuleNotFoundError\u001b[0m                       Traceback (most recent call last)",
      "\u001b[1;32m<ipython-input-14-5db77d0336c7>\u001b[0m in \u001b[0;36m<module>\u001b[1;34m\u001b[0m\n\u001b[0;32m      1\u001b[0m \u001b[1;31m#from kats.consts import TimeSeriesData\u001b[0m\u001b[1;33m\u001b[0m\u001b[1;33m\u001b[0m\u001b[1;33m\u001b[0m\u001b[0m\n\u001b[1;32m----> 2\u001b[1;33m \u001b[1;32mfrom\u001b[0m \u001b[0mkats\u001b[0m\u001b[1;33m.\u001b[0m\u001b[0mmodels\u001b[0m\u001b[1;33m.\u001b[0m\u001b[0mprophet\u001b[0m \u001b[1;32mimport\u001b[0m \u001b[0mProphetModel\u001b[0m\u001b[1;33m,\u001b[0m \u001b[0mProphetParams\u001b[0m\u001b[1;33m\u001b[0m\u001b[1;33m\u001b[0m\u001b[0m\n\u001b[0m",
      "\u001b[1;31mModuleNotFoundError\u001b[0m: No module named 'kats'"
     ]
    }
   ],
   "source": [
    "from kats.consts import TimeSeriesData\n",
    "from kats.models.prophet import ProphetModel, ProphetParams"
   ]
  },
  {
   "cell_type": "code",
   "execution_count": null,
   "id": "surgical-liability",
   "metadata": {},
   "outputs": [],
   "source": []
  }
 ],
 "metadata": {
  "kernelspec": {
   "display_name": "Python 3",
   "language": "python",
   "name": "python3"
  },
  "language_info": {
   "codemirror_mode": {
    "name": "ipython",
    "version": 3
   },
   "file_extension": ".py",
   "mimetype": "text/x-python",
   "name": "python",
   "nbconvert_exporter": "python",
   "pygments_lexer": "ipython3",
   "version": "3.8.8"
  }
 },
 "nbformat": 4,
 "nbformat_minor": 5
}
